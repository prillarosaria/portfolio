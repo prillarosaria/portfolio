{
  "nbformat": 4,
  "nbformat_minor": 0,
  "metadata": {
    "colab": {
      "provenance": []
    },
    "kernelspec": {
      "name": "python3",
      "display_name": "Python 3"
    },
    "language_info": {
      "name": "python"
    }
  },
  "cells": [
    {
      "cell_type": "markdown",
      "source": [
        "#Import Library"
      ],
      "metadata": {
        "id": "Jdy8tbwpV3SL"
      }
    },
    {
      "cell_type": "markdown",
      "source": [
        "Import the required libraries during the project.\n",
        "\n",
        "- Pandas, used to perform data analysis processing\n",
        "- Matplotlib, is used as a basis for visualizing data\n",
        "- Seaborn, used on top of matplotlib to do more interesting data visualizations\n",
        "- Sklearn, used to prepare data before modeling \n",
        "- kmodes, used to perform modeling using the K-Prototypes algorithms.\n",
        "- Pickle, is used to store the model that will be made."
      ],
      "metadata": {
        "id": "4ZQ5ZE2LVzjX"
      }
    },
    {
      "cell_type": "code",
      "execution_count": null,
      "metadata": {
        "id": "4rP1c1l_VQHm"
      },
      "outputs": [],
      "source": [
        "import pandas as pd  \n",
        "import matplotlib.pyplot as plt  \n",
        "import seaborn as sns  \n",
        "from sklearn.preprocessing import LabelEncoder \n",
        "from sklearn.preprocessing import StandardScaler\n",
        "from kmodes.kprototypes import KPrototypes  \n",
        "  \n",
        "import pickle  \n",
        "from pathlib import Path  "
      ]
    },
    {
      "cell_type": "markdown",
      "source": [
        "#Data Understanding"
      ],
      "metadata": {
        "id": "oJTlGFfb19EX"
      }
    },
    {
      "cell_type": "markdown",
      "source": [
        "**Understanding Movie Dataset with knowing features and information about data.**\n",
        "\n",
        "This dataset has 7 features and 50 rows with variate data types such as int and string. So, it means that there are numeric data and categorical data in this dataset. All cells are also filled with value."
      ],
      "metadata": {
        "id": "7hEz8yvBz8pi"
      }
    },
    {
      "cell_type": "code",
      "source": [
        "# import dataset  \n",
        "df = pd.read_csv(\"https://storage.googleapis.com/dqlab-dataset/customer_segments.txt\", delimiter=\"\\t\")  \n",
        "  \n",
        "# menampilkan data  \n",
        "print(df.head())"
      ],
      "metadata": {
        "colab": {
          "base_uri": "https://localhost:8080/"
        },
        "id": "lI2H07DQWL6e",
        "outputId": "e203df5c-1ccc-418e-a9a2-26d82bd412d1"
      },
      "execution_count": null,
      "outputs": [
        {
          "output_type": "stream",
          "name": "stdout",
          "text": [
            "  Customer_ID       Nama Pelanggan Jenis Kelamin  Umur       Profesi  \\\n",
            "0    CUST-001         Budi Anggara          Pria    58    Wiraswasta   \n",
            "1    CUST-002     Shirley Ratuwati        Wanita    14       Pelajar   \n",
            "2    CUST-003         Agus Cahyono          Pria    48  Professional   \n",
            "3    CUST-004     Antonius Winarta          Pria    53  Professional   \n",
            "4    CUST-005  Ibu Sri Wahyuni, IR        Wanita    41    Wiraswasta   \n",
            "\n",
            "  Tipe Residen  NilaiBelanjaSetahun  \n",
            "0       Sector              9497927  \n",
            "1      Cluster              2722700  \n",
            "2      Cluster              5286429  \n",
            "3      Cluster              5204498  \n",
            "4      Cluster             10615206  \n"
          ]
        }
      ]
    },
    {
      "cell_type": "code",
      "source": [
        "df.info()"
      ],
      "metadata": {
        "colab": {
          "base_uri": "https://localhost:8080/"
        },
        "id": "O5v9vNaWWOSN",
        "outputId": "a4cff0b4-ebf3-494c-e72c-726565c86cfd"
      },
      "execution_count": null,
      "outputs": [
        {
          "output_type": "stream",
          "name": "stdout",
          "text": [
            "<class 'pandas.core.frame.DataFrame'>\n",
            "RangeIndex: 50 entries, 0 to 49\n",
            "Data columns (total 7 columns):\n",
            " #   Column               Non-Null Count  Dtype \n",
            "---  ------               --------------  ----- \n",
            " 0   Customer_ID          50 non-null     object\n",
            " 1   Nama Pelanggan       50 non-null     object\n",
            " 2   Jenis Kelamin        50 non-null     object\n",
            " 3   Umur                 50 non-null     int64 \n",
            " 4   Profesi              50 non-null     object\n",
            " 5   Tipe Residen         50 non-null     object\n",
            " 6   NilaiBelanjaSetahun  50 non-null     int64 \n",
            "dtypes: int64(2), object(5)\n",
            "memory usage: 2.9+ KB\n"
          ]
        }
      ]
    },
    {
      "cell_type": "markdown",
      "source": [
        "#Data Exploration"
      ],
      "metadata": {
        "id": "5X59-INrYRa-"
      }
    },
    {
      "cell_type": "markdown",
      "source": [
        "Create a function to display a visualization of numeric data, namely the \"Umur\" and \"NilaiBelanjaSetahun\".\n",
        "\n",
        "This function will display a boxplot visualization of the two columns along with their mean, median, and standard deviation using the seaborn library."
      ],
      "metadata": {
        "id": "7M33hBSV1Esz"
      }
    },
    {
      "cell_type": "code",
      "source": [
        "plt.clf()\n",
        "  \n",
        "# Fungsi untuk membuat plot  \n",
        "def observasi_num(features):  \n",
        "    fig, axs = plt.subplots(2, 2, figsize=(10, 9))\n",
        "    for i, kol in enumerate(features):\n",
        "\t    sns.boxplot(df[kol], ax = axs[i][0])\n",
        "\t    sns.distplot(df[kol], ax = axs[i][1])   \n",
        "\t    axs[i][0].set_title('mean = %.2f\\n median = %.2f\\n std = %.2f'%(df[kol].mean(), df[kol].median(), df[kol].std()))\n",
        "    plt.setp(axs)\n",
        "    plt.tight_layout()\n",
        "    plt.show()  \n",
        "  \n",
        "# Memanggil fungsi untuk membuat Plot untuk data numerik  \n",
        "kolom_numerik = ['Umur', 'NilaiBelanjaSetahun'] \n",
        "observasi_num(kolom_numerik) "
      ],
      "metadata": {
        "colab": {
          "base_uri": "https://localhost:8080/",
          "height": 1000
        },
        "id": "feVW0NMEX5Lk",
        "outputId": "349ca73a-2550-451a-d7dc-4d453dabeebb"
      },
      "execution_count": null,
      "outputs": [
        {
          "output_type": "stream",
          "name": "stdout",
          "text": [
            "  adjustable: {'box', 'datalim'}\n",
            "  agg_filter: a filter function, which takes a (m, n, 3) float array and a dpi value, and returns a (m, n, 3) array\n",
            "  alpha: float or None\n",
            "  anchor: 2-tuple of floats or {'C', 'SW', 'S', 'SE', ...}\n",
            "  animated: bool\n",
            "  aspect: {'auto', 'equal'} or num\n",
            "  autoscale_on: bool\n",
            "  autoscalex_on: bool\n",
            "  autoscaley_on: bool\n",
            "  axes_locator: Callable[[Axes, Renderer], Bbox]\n",
            "  axisbelow: bool or 'line'\n",
            "  clip_box: `.Bbox`\n",
            "  clip_on: bool\n",
            "  clip_path: Patch or (Path, Transform) or None\n",
            "  contains: callable\n",
            "  facecolor: color\n",
            "  fc: color\n",
            "  figure: `.Figure`\n",
            "  frame_on: bool\n",
            "  gid: str\n",
            "  in_layout: bool\n",
            "  label: object\n",
            "  navigate: bool\n",
            "  navigate_mode: unknown\n",
            "  path_effects: `.AbstractPathEffect`\n",
            "  picker: None or bool or float or callable\n",
            "  position: [left, bottom, width, height] or `~matplotlib.transforms.Bbox`\n",
            "  prop_cycle: unknown\n",
            "  rasterization_zorder: float or None\n",
            "  rasterized: bool or None\n",
            "  sketch_params: (scale: float, length: float, randomness: float)\n",
            "  snap: bool or None\n",
            "  subplotspec: unknown\n",
            "  title: str\n",
            "  transform: `.Transform`\n",
            "  url: str\n",
            "  visible: bool\n",
            "  xbound: unknown\n",
            "  xlabel: str\n",
            "  xlim: (bottom: float, top: float)\n",
            "  xmargin: float greater than -0.5\n",
            "  xscale: {\"linear\", \"log\", \"symlog\", \"logit\", ...}\n",
            "  xticklabels: List[str]\n",
            "  xticks: unknown\n",
            "  ybound: unknown\n",
            "  ylabel: str\n",
            "  ylim: (bottom: float, top: float)\n",
            "  ymargin: float greater than -0.5\n",
            "  yscale: {\"linear\", \"log\", \"symlog\", \"logit\", ...}\n",
            "  yticklabels: List[str]\n",
            "  yticks: unknown\n",
            "  zorder: float\n"
          ]
        },
        {
          "output_type": "stream",
          "name": "stderr",
          "text": [
            "/usr/local/lib/python3.8/dist-packages/seaborn/_decorators.py:36: FutureWarning: Pass the following variable as a keyword arg: x. From version 0.12, the only valid positional argument will be `data`, and passing other arguments without an explicit keyword will result in an error or misinterpretation.\n",
            "  warnings.warn(\n",
            "/usr/local/lib/python3.8/dist-packages/seaborn/distributions.py:2619: FutureWarning: `distplot` is a deprecated function and will be removed in a future version. Please adapt your code to use either `displot` (a figure-level function with similar flexibility) or `histplot` (an axes-level function for histograms).\n",
            "  warnings.warn(msg, FutureWarning)\n",
            "/usr/local/lib/python3.8/dist-packages/seaborn/_decorators.py:36: FutureWarning: Pass the following variable as a keyword arg: x. From version 0.12, the only valid positional argument will be `data`, and passing other arguments without an explicit keyword will result in an error or misinterpretation.\n",
            "  warnings.warn(\n",
            "/usr/local/lib/python3.8/dist-packages/seaborn/distributions.py:2619: FutureWarning: `distplot` is a deprecated function and will be removed in a future version. Please adapt your code to use either `displot` (a figure-level function with similar flexibility) or `histplot` (an axes-level function for histograms).\n",
            "  warnings.warn(msg, FutureWarning)\n"
          ]
        },
        {
          "output_type": "display_data",
          "data": {
            "text/plain": [
              "<Figure size 432x288 with 0 Axes>"
            ]
          },
          "metadata": {}
        },
        {
          "output_type": "display_data",
          "data": {
            "text/plain": [
              "<Figure size 720x648 with 4 Axes>"
            ],
            "image/png": "[encoded data removed]"
          },
          "metadata": {
            "needs_background": "light"
          }
        }
      ]
    },
    {
      "cell_type": "markdown",
      "source": [
        "Create a function to display a visualization of categorical data, namely the \"JenisKelamin\", \"Profesi\" and \"TipeResiden\" columns.\n",
        "\n",
        "This function will display a barchart visualization of the three columns which will calculate the total of all values using the seaborn library."
      ],
      "metadata": {
        "id": "LUNukh5f1wh5"
      }
    },
    {
      "cell_type": "code",
      "source": [
        "# Menyiapkan kolom kategorikal  \n",
        "kolom_kategorikal = ['Jenis Kelamin','Profesi','Tipe Residen']  \n",
        "\n",
        "# Membuat canvas\n",
        "fig, axs = plt.subplots(3,1,figsize=(7,10)) \n",
        "\n",
        "# Membuat plot untuk setiap kolom kategorikal  \n",
        "for i, kol in enumerate(kolom_kategorikal):  \n",
        "    # Membuat Plot\n",
        "    sns.countplot(df[kol], order = df[kol].value_counts().index, ax = axs[i])  \n",
        "    axs[i].set_title('\\nCount Plot %s\\n'%(kol), fontsize=15)  \n",
        "      \n",
        "    # Memberikan anotasi  \n",
        "    for p in axs[i].patches:  \n",
        "        axs[i].annotate(format(p.get_height(), '.0f'),  \n",
        "                        (p.get_x() + p.get_width() / 2., p.get_height()),  \n",
        "                        ha = 'center',  \n",
        "                        va = 'center',  \n",
        "                        xytext = (0, 10),  \n",
        "                        textcoords = 'offset points') \n",
        "          \n",
        "    # Setting Plot  \n",
        "    sns.despine(right=True,top = True, left = True)  \n",
        "    axs[i].axes.yaxis.set_visible(False) \n",
        "    plt.setp(axs[i])\n",
        "    plt.tight_layout()\n",
        "\n",
        "# Tampilkan plot\n",
        "plt.show()"
      ],
      "metadata": {
        "colab": {
          "base_uri": "https://localhost:8080/",
          "height": 1000
        },
        "id": "s41cRBnjba1k",
        "outputId": "aed507bd-8838-46b0-d196-f2bf432a60f2"
      },
      "execution_count": null,
      "outputs": [
        {
          "output_type": "stream",
          "name": "stderr",
          "text": [
            "/usr/local/lib/python3.8/dist-packages/seaborn/_decorators.py:36: FutureWarning: Pass the following variable as a keyword arg: x. From version 0.12, the only valid positional argument will be `data`, and passing other arguments without an explicit keyword will result in an error or misinterpretation.\n",
            "  warnings.warn(\n",
            "/usr/local/lib/python3.8/dist-packages/seaborn/_decorators.py:36: FutureWarning: Pass the following variable as a keyword arg: x. From version 0.12, the only valid positional argument will be `data`, and passing other arguments without an explicit keyword will result in an error or misinterpretation.\n",
            "  warnings.warn(\n",
            "/usr/local/lib/python3.8/dist-packages/seaborn/_decorators.py:36: FutureWarning: Pass the following variable as a keyword arg: x. From version 0.12, the only valid positional argument will be `data`, and passing other arguments without an explicit keyword will result in an error or misinterpretation.\n",
            "  warnings.warn(\n"
          ]
        },
        {
          "output_type": "stream",
          "name": "stdout",
          "text": [
            "  adjustable: {'box', 'datalim'}\n",
            "  agg_filter: a filter function, which takes a (m, n, 3) float array and a dpi value, and returns a (m, n, 3) array\n",
            "  alpha: float or None\n",
            "  anchor: 2-tuple of floats or {'C', 'SW', 'S', 'SE', ...}\n",
            "  animated: bool\n",
            "  aspect: {'auto', 'equal'} or num\n",
            "  autoscale_on: bool\n",
            "  autoscalex_on: bool\n",
            "  autoscaley_on: bool\n",
            "  axes_locator: Callable[[Axes, Renderer], Bbox]\n",
            "  axisbelow: bool or 'line'\n",
            "  clip_box: `.Bbox`\n",
            "  clip_on: bool\n",
            "  clip_path: Patch or (Path, Transform) or None\n",
            "  contains: callable\n",
            "  facecolor: color\n",
            "  fc: color\n",
            "  figure: `.Figure`\n",
            "  frame_on: bool\n",
            "  gid: str\n",
            "  in_layout: bool\n",
            "  label: object\n",
            "  navigate: bool\n",
            "  navigate_mode: unknown\n",
            "  path_effects: `.AbstractPathEffect`\n",
            "  picker: None or bool or float or callable\n",
            "  position: [left, bottom, width, height] or `~matplotlib.transforms.Bbox`\n",
            "  prop_cycle: unknown\n",
            "  rasterization_zorder: float or None\n",
            "  rasterized: bool or None\n",
            "  sketch_params: (scale: float, length: float, randomness: float)\n",
            "  snap: bool or None\n",
            "  subplotspec: unknown\n",
            "  title: str\n",
            "  transform: `.Transform`\n",
            "  url: str\n",
            "  visible: bool\n",
            "  xbound: unknown\n",
            "  xlabel: str\n",
            "  xlim: (bottom: float, top: float)\n",
            "  xmargin: float greater than -0.5\n",
            "  xscale: {\"linear\", \"log\", \"symlog\", \"logit\", ...}\n",
            "  xticklabels: List[str]\n",
            "  xticks: unknown\n",
            "  ybound: unknown\n",
            "  ylabel: str\n",
            "  ylim: (bottom: float, top: float)\n",
            "  ymargin: float greater than -0.5\n",
            "  yscale: {\"linear\", \"log\", \"symlog\", \"logit\", ...}\n",
            "  yticklabels: List[str]\n",
            "  yticks: unknown\n",
            "  zorder: float\n",
            "  adjustable: {'box', 'datalim'}\n",
            "  agg_filter: a filter function, which takes a (m, n, 3) float array and a dpi value, and returns a (m, n, 3) array\n",
            "  alpha: float or None\n",
            "  anchor: 2-tuple of floats or {'C', 'SW', 'S', 'SE', ...}\n",
            "  animated: bool\n",
            "  aspect: {'auto', 'equal'} or num\n",
            "  autoscale_on: bool\n",
            "  autoscalex_on: bool\n",
            "  autoscaley_on: bool\n",
            "  axes_locator: Callable[[Axes, Renderer], Bbox]\n",
            "  axisbelow: bool or 'line'\n",
            "  clip_box: `.Bbox`\n",
            "  clip_on: bool\n",
            "  clip_path: Patch or (Path, Transform) or None\n",
            "  contains: callable\n",
            "  facecolor: color\n",
            "  fc: color\n",
            "  figure: `.Figure`\n",
            "  frame_on: bool\n",
            "  gid: str\n",
            "  in_layout: bool\n",
            "  label: object\n",
            "  navigate: bool\n",
            "  navigate_mode: unknown\n",
            "  path_effects: `.AbstractPathEffect`\n",
            "  picker: None or bool or float or callable\n",
            "  position: [left, bottom, width, height] or `~matplotlib.transforms.Bbox`\n",
            "  prop_cycle: unknown\n",
            "  rasterization_zorder: float or None\n",
            "  rasterized: bool or None\n",
            "  sketch_params: (scale: float, length: float, randomness: float)\n",
            "  snap: bool or None\n",
            "  subplotspec: unknown\n",
            "  title: str\n",
            "  transform: `.Transform`\n",
            "  url: str\n",
            "  visible: bool\n",
            "  xbound: unknown\n",
            "  xlabel: str\n",
            "  xlim: (bottom: float, top: float)\n",
            "  xmargin: float greater than -0.5\n",
            "  xscale: {\"linear\", \"log\", \"symlog\", \"logit\", ...}\n",
            "  xticklabels: List[str]\n",
            "  xticks: unknown\n",
            "  ybound: unknown\n",
            "  ylabel: str\n",
            "  ylim: (bottom: float, top: float)\n",
            "  ymargin: float greater than -0.5\n",
            "  yscale: {\"linear\", \"log\", \"symlog\", \"logit\", ...}\n",
            "  yticklabels: List[str]\n",
            "  yticks: unknown\n",
            "  zorder: float\n",
            "  adjustable: {'box', 'datalim'}\n",
            "  agg_filter: a filter function, which takes a (m, n, 3) float array and a dpi value, and returns a (m, n, 3) array\n",
            "  alpha: float or None\n",
            "  anchor: 2-tuple of floats or {'C', 'SW', 'S', 'SE', ...}\n",
            "  animated: bool\n",
            "  aspect: {'auto', 'equal'} or num\n",
            "  autoscale_on: bool\n",
            "  autoscalex_on: bool\n",
            "  autoscaley_on: bool\n",
            "  axes_locator: Callable[[Axes, Renderer], Bbox]\n",
            "  axisbelow: bool or 'line'\n",
            "  clip_box: `.Bbox`\n",
            "  clip_on: bool\n",
            "  clip_path: Patch or (Path, Transform) or None\n",
            "  contains: callable\n",
            "  facecolor: color\n",
            "  fc: color\n",
            "  figure: `.Figure`\n",
            "  frame_on: bool\n",
            "  gid: str\n",
            "  in_layout: bool\n",
            "  label: object\n",
            "  navigate: bool\n",
            "  navigate_mode: unknown\n",
            "  path_effects: `.AbstractPathEffect`\n",
            "  picker: None or bool or float or callable\n",
            "  position: [left, bottom, width, height] or `~matplotlib.transforms.Bbox`\n",
            "  prop_cycle: unknown\n",
            "  rasterization_zorder: float or None\n",
            "  rasterized: bool or None\n",
            "  sketch_params: (scale: float, length: float, randomness: float)\n",
            "  snap: bool or None\n",
            "  subplotspec: unknown\n",
            "  title: str\n",
            "  transform: `.Transform`\n",
            "  url: str\n",
            "  visible: bool\n",
            "  xbound: unknown\n",
            "  xlabel: str\n",
            "  xlim: (bottom: float, top: float)\n",
            "  xmargin: float greater than -0.5\n",
            "  xscale: {\"linear\", \"log\", \"symlog\", \"logit\", ...}\n",
            "  xticklabels: List[str]\n",
            "  xticks: unknown\n",
            "  ybound: unknown\n",
            "  ylabel: str\n",
            "  ylim: (bottom: float, top: float)\n",
            "  ymargin: float greater than -0.5\n",
            "  yscale: {\"linear\", \"log\", \"symlog\", \"logit\", ...}\n",
            "  yticklabels: List[str]\n",
            "  yticks: unknown\n",
            "  zorder: float\n"
          ]
        },
        {
          "output_type": "display_data",
          "data": {
            "text/plain": [
              "<Figure size 504x720 with 3 Axes>"
            ],
            "image/png": "[encoded data removed]"
          },
          "metadata": {
            "needs_background": "light"
          }
        }
      ]
    },
    {
      "cell_type": "markdown",
      "source": [
        "From this visualization it can be concluded that:\n",
        "- The average age of customers is 37.5 years\n",
        "- The average value of a customer's annual shopping is 7,069,874.82\n",
        "- Gender of customers is dominated by women (wanita) as many as 41 people (82%) and men (pria) as many as 9 people (18%)\n",
        "- Most professions are Entrepreneurs (wiraswasta) (40%) followed by Professionals (profesional) (36%) and - others (24%)\n",
        "- Of all customers, 64% of them live in Clusters and 36% live in Sectors"
      ],
      "metadata": {
        "id": "6VqBhc6_XM-O"
      }
    },
    {
      "cell_type": "markdown",
      "source": [
        "#Data Preparation"
      ],
      "metadata": {
        "id": "6N_xt57JfGs0"
      }
    },
    {
      "cell_type": "markdown",
      "source": [
        "Standardize numeric data using **StandardScaler()** from the sklearn library so that the numeric data has the same scale and no one dominates."
      ],
      "metadata": {
        "id": "JoFRSEvq29EW"
      }
    },
    {
      "cell_type": "code",
      "source": [
        "# Statistik sebelum Standardisasi  \n",
        "print('Statistik Sebelum Standardisasi\\n')  \n",
        "print(df[kolom_numerik].describe().round(1))  \n",
        "  \n",
        "# Standardisasi  \n",
        "df_std = StandardScaler().fit_transform(df[kolom_numerik])  \n",
        "  \n",
        "# Membuat DataFrame  \n",
        "df_std = pd.DataFrame(data=df_std, index=df.index, columns=df[kolom_numerik].columns)  \n",
        "  \n",
        "# Menampilkan contoh isi data dan summary statistic  \n",
        "print('Contoh hasil standardisasi\\n')  \n",
        "print(df_std.head())  \n",
        "  \n",
        "print('Statistik hasil standardisasi\\n')  \n",
        "print(df_std.describe().round(0))  "
      ],
      "metadata": {
        "id": "NBKqzCJNdE5t",
        "colab": {
          "base_uri": "https://localhost:8080/"
        },
        "outputId": "680d07a1-e274-4df1-8622-47fec6d7bf99"
      },
      "execution_count": null,
      "outputs": [
        {
          "output_type": "stream",
          "name": "stdout",
          "text": [
            "Statistik Sebelum Standardisasi\n",
            "\n",
            "       Umur  NilaiBelanjaSetahun\n",
            "count  50.0                 50.0\n",
            "mean   37.5            7069874.8\n",
            "std    14.7            2590619.0\n",
            "min    14.0            2722700.0\n",
            "25%    25.0            5257529.8\n",
            "50%    35.0            5980077.0\n",
            "75%    49.8            9739615.0\n",
            "max    64.0           10884508.0\n",
            "Contoh hasil standardisasi\n",
            "\n",
            "       Umur  NilaiBelanjaSetahun\n",
            "0  1.411245             0.946763\n",
            "1 -1.617768            -1.695081\n",
            "2  0.722833            -0.695414\n",
            "3  1.067039            -0.727361\n",
            "4  0.240944             1.382421\n",
            "Statistik hasil standardisasi\n",
            "\n",
            "       Umur  NilaiBelanjaSetahun\n",
            "count  50.0                 50.0\n",
            "mean   -0.0                 -0.0\n",
            "std     1.0                  1.0\n",
            "min    -2.0                 -2.0\n",
            "25%    -1.0                 -1.0\n",
            "50%    -0.0                 -0.0\n",
            "75%     1.0                  1.0\n",
            "max     2.0                  1.0\n"
          ]
        }
      ]
    },
    {
      "cell_type": "markdown",
      "source": [
        "Encoding categorical data using **LabelEncoder()** from the sklearn library so that the categorical data it has becomes numeric data so it can be used in modeling."
      ],
      "metadata": {
        "id": "wmQv19q-4NpZ"
      }
    },
    {
      "cell_type": "code",
      "source": [
        "# Membuat salinan data frame  \n",
        "df_encode = df[kolom_kategorikal].copy()\n",
        "  \n",
        "# Melakukan labelEncoder untuk semua kolom kategorikal  \n",
        "for col in kolom_kategorikal:  \n",
        "    df_encode[col] = LabelEncoder().fit_transform(df_encode[col])\n",
        "      \n",
        "# Menampilkan data  \n",
        "print(df_encode)"
      ],
      "metadata": {
        "colab": {
          "base_uri": "https://localhost:8080/"
        },
        "id": "rLokcaQvZ-xr",
        "outputId": "07f93727-abd7-4717-a7e8-4aaef4e71a28"
      },
      "execution_count": null,
      "outputs": [
        {
          "output_type": "stream",
          "name": "stdout",
          "text": [
            "    Jenis Kelamin  Profesi  Tipe Residen\n",
            "0               0        4             1\n",
            "1               1        2             0\n",
            "2               0        3             0\n",
            "3               0        3             0\n",
            "4               1        4             0\n",
            "5               1        3             0\n",
            "6               0        4             1\n",
            "7               0        3             0\n",
            "8               1        3             1\n",
            "9               0        3             0\n",
            "10              1        3             1\n",
            "11              1        3             1\n",
            "12              1        4             0\n",
            "13              0        4             0\n",
            "14              1        4             0\n",
            "15              0        3             0\n",
            "16              1        0             0\n",
            "17              1        0             0\n",
            "18              1        4             0\n",
            "19              1        2             1\n",
            "20              1        4             0\n",
            "21              1        3             0\n",
            "22              0        3             0\n",
            "23              1        4             0\n",
            "24              1        4             1\n",
            "25              1        3             0\n",
            "26              1        4             0\n",
            "27              1        0             0\n",
            "28              1        3             0\n",
            "29              1        0             1\n",
            "30              1        1             0\n",
            "31              1        4             1\n",
            "32              1        1             0\n",
            "33              1        4             1\n",
            "34              1        3             1\n",
            "35              1        4             0\n",
            "36              1        3             1\n",
            "37              1        4             1\n",
            "38              1        3             0\n",
            "39              1        2             1\n",
            "40              1        0             0\n",
            "41              1        4             0\n",
            "42              1        3             0\n",
            "43              1        4             0\n",
            "44              1        3             0\n",
            "45              1        4             1\n",
            "46              1        0             0\n",
            "47              1        4             1\n",
            "48              1        0             1\n",
            "49              1        4             1\n"
          ]
        }
      ]
    },
    {
      "cell_type": "code",
      "source": [
        "# Menggabungkan data frame\n",
        "df_model= df_encode.merge(df_std, left_index = True, right_index=True, how= 'left')  \n",
        "print(df_model.head())"
      ],
      "metadata": {
        "colab": {
          "base_uri": "https://localhost:8080/"
        },
        "id": "fpoQXA9-dACX",
        "outputId": "43bd0a4c-a92f-4905-afcb-e7afd44a8c77"
      },
      "execution_count": null,
      "outputs": [
        {
          "output_type": "stream",
          "name": "stdout",
          "text": [
            "   Jenis Kelamin  Profesi  Tipe Residen      Umur  NilaiBelanjaSetahun\n",
            "0              0        4             1  1.411245             0.946763\n",
            "1              1        2             0 -1.617768            -1.695081\n",
            "2              0        3             0  0.722833            -0.695414\n",
            "3              0        3             0  1.067039            -0.727361\n",
            "4              1        4             0  0.240944             1.382421\n"
          ]
        }
      ]
    },
    {
      "cell_type": "markdown",
      "source": [
        "#Data Modeling"
      ],
      "metadata": {
        "id": "Mg0dcS41fOrj"
      }
    },
    {
      "cell_type": "markdown",
      "source": [
        "To perform customer segmentation, it is necessary to do dataset clustering.\n",
        "\n",
        "The algorithm that is owned is the k-prototype algorithm. This algorithm was chosen because it can handle a combination of categorical and numeric data. Other clustering algorithms, for example k-means are usually used to cluster numeric data, while k-modes is usually used to cluster categorical data only.\n",
        "\n",
        "The parameters required for clustering using the k-prototype are the desired number of clusters and also marking which columns are categorical."
      ],
      "metadata": {
        "id": "KctI643bfTQi"
      }
    },
    {
      "cell_type": "markdown",
      "source": [
        "To see the elbow method, we can model the preprocessed dataset using the k-prototype algorithm by looking at the cost of each number of clusters."
      ],
      "metadata": {
        "id": "hmFp01pL6NZD"
      }
    },
    {
      "cell_type": "code",
      "source": [
        "# Melakukan Iterasi untuk Mendapatkan nilai Cost  \n",
        "cost = {}  \n",
        "for k in range(2,10):  \n",
        "    kproto = KPrototypes(n_clusters = k,random_state=75)  \n",
        "    kproto.fit_predict(df_model, categorical=[0,1,2])  \n",
        "    cost[k]= kproto.cost_  \n",
        "  \n",
        "# Memvisualisasikan Elbow Plot  \n",
        "sns.pointplot(x=list(cost.keys()), y=list(cost.values()))  \n",
        "plt.show()"
      ],
      "metadata": {
        "colab": {
          "base_uri": "https://localhost:8080/",
          "height": 265
        },
        "id": "5x1RanKgfQyi",
        "outputId": "af298937-33fe-45d3-a159-493f55af32be"
      },
      "execution_count": null,
      "outputs": [
        {
          "output_type": "display_data",
          "data": {
            "text/plain": [
              "<Figure size 432x288 with 1 Axes>"
            ],
            "image/png": "[encoded data removed]"
          },
          "metadata": {
            "needs_background": "light"
          }
        }
      ]
    },
    {
      "cell_type": "markdown",
      "source": [
        "After looking for the most optimal number of clusters, the result is that the number of clusters is **5**.\n",
        "\n",
        "So that during the modeling process with the k-prototype algorithm the number of clusters used is 5.\n",
        "\n",
        "Do the same thing as when making the elbow method. Define the KPrototypes algorithm first and enter the number of clusters. After that, fit the pre-processed dataset with the previously defined k-prototype algorithm.\n",
        "\n",
        "Save the model using **pickle**."
      ],
      "metadata": {
        "id": "WRyd0sY77LC_"
      }
    },
    {
      "cell_type": "code",
      "source": [
        "kproto = KPrototypes(n_clusters = 5, random_state = 75)  \n",
        "kproto = kproto.fit(df_model, categorical=[0,1,2])  \n",
        "  \n",
        "#Save Model  \n",
        "pickle.dump(kproto, open('cluster.pkl', 'wb'))  "
      ],
      "metadata": {
        "id": "AcW_uhFpgGlR"
      },
      "execution_count": null,
      "outputs": []
    },
    {
      "cell_type": "markdown",
      "source": [
        "Next, make predictions for each customer cluster using the dataset used for modeling as well.\n",
        "\n",
        "Enter the prediction results into the initial dataset by adding a new column named **\"cluster\"**."
      ],
      "metadata": {
        "id": "nY0NP6ZR9kMc"
      }
    },
    {
      "cell_type": "code",
      "source": [
        "# Menentukan segmen tiap pelanggan    \n",
        "clusters =  kproto.predict(df_model, categorical=[0,1,2])    \n",
        "print('segmen pelanggan: {}\\n'.format(clusters))    \n",
        "    \n",
        "# Menggabungkan data awal dan segmen pelanggan    \n",
        "df_final = df.copy()    \n",
        "df_final['cluster'] = clusters\n",
        "df_final.head()"
      ],
      "metadata": {
        "colab": {
          "base_uri": "https://localhost:8080/",
          "height": 258
        },
        "id": "qtKcv6MThhmV",
        "outputId": "41c3af93-bc19-4b22-9c9a-80f744175db6"
      },
      "execution_count": null,
      "outputs": [
        {
          "output_type": "stream",
          "name": "stdout",
          "text": [
            "segmen pelanggan: [1 0 2 2 3 4 1 2 4 4 2 2 1 1 3 4 4 2 3 0 3 2 4 3 3 2 3 4 2 2 0 1 0 3 4 3 4\n",
            " 1 4 0 4 3 4 3 4 3 2 1 4 1]\n",
            "\n"
          ]
        },
        {
          "output_type": "execute_result",
          "data": {
            "text/plain": [
              "  Customer_ID       Nama Pelanggan Jenis Kelamin  Umur       Profesi  \\\n",
              "0    CUST-001         Budi Anggara          Pria    58    Wiraswasta   \n",
              "1    CUST-002     Shirley Ratuwati        Wanita    14       Pelajar   \n",
              "2    CUST-003         Agus Cahyono          Pria    48  Professional   \n",
              "3    CUST-004     Antonius Winarta          Pria    53  Professional   \n",
              "4    CUST-005  Ibu Sri Wahyuni, IR        Wanita    41    Wiraswasta   \n",
              "\n",
              "  Tipe Residen  NilaiBelanjaSetahun  cluster  \n",
              "0       Sector              9497927        1  \n",
              "1      Cluster              2722700        0  \n",
              "2      Cluster              5286429        2  \n",
              "3      Cluster              5204498        2  \n",
              "4      Cluster             10615206        3  "
            ],
            "text/html": [
              "\n",
              "  <div id=\"df-1e45cb09-8156-4c14-8b16-bc75e8f093b8\">\n",
              "    <div class=\"colab-df-container\">\n",
              "      <div>\n",
              "<style scoped>\n",
              "    .dataframe tbody tr th:only-of-type {\n",
              "        vertical-align: middle;\n",
              "    }\n",
              "\n",
              "    .dataframe tbody tr th {\n",
              "        vertical-align: top;\n",
              "    }\n",
              "\n",
              "    .dataframe thead th {\n",
              "        text-align: right;\n",
              "    }\n",
              "</style>\n",
              "<table border=\"1\" class=\"dataframe\">\n",
              "  <thead>\n",
              "    <tr style=\"text-align: right;\">\n",
              "      <th></th>\n",
              "      <th>Customer_ID</th>\n",
              "      <th>Nama Pelanggan</th>\n",
              "      <th>Jenis Kelamin</th>\n",
              "      <th>Umur</th>\n",
              "      <th>Profesi</th>\n",
              "      <th>Tipe Residen</th>\n",
              "      <th>NilaiBelanjaSetahun</th>\n",
              "      <th>cluster</th>\n",
              "    </tr>\n",
              "  </thead>\n",
              "  <tbody>\n",
              "    <tr>\n",
              "      <th>0</th>\n",
              "      <td>CUST-001</td>\n",
              "      <td>Budi Anggara</td>\n",
              "      <td>Pria</td>\n",
              "      <td>58</td>\n",
              "      <td>Wiraswasta</td>\n",
              "      <td>Sector</td>\n",
              "      <td>9497927</td>\n",
              "      <td>1</td>\n",
              "    </tr>\n",
              "    <tr>\n",
              "      <th>1</th>\n",
              "      <td>CUST-002</td>\n",
              "      <td>Shirley Ratuwati</td>\n",
              "      <td>Wanita</td>\n",
              "      <td>14</td>\n",
              "      <td>Pelajar</td>\n",
              "      <td>Cluster</td>\n",
              "      <td>2722700</td>\n",
              "      <td>0</td>\n",
              "    </tr>\n",
              "    <tr>\n",
              "      <th>2</th>\n",
              "      <td>CUST-003</td>\n",
              "      <td>Agus Cahyono</td>\n",
              "      <td>Pria</td>\n",
              "      <td>48</td>\n",
              "      <td>Professional</td>\n",
              "      <td>Cluster</td>\n",
              "      <td>5286429</td>\n",
              "      <td>2</td>\n",
              "    </tr>\n",
              "    <tr>\n",
              "      <th>3</th>\n",
              "      <td>CUST-004</td>\n",
              "      <td>Antonius Winarta</td>\n",
              "      <td>Pria</td>\n",
              "      <td>53</td>\n",
              "      <td>Professional</td>\n",
              "      <td>Cluster</td>\n",
              "      <td>5204498</td>\n",
              "      <td>2</td>\n",
              "    </tr>\n",
              "    <tr>\n",
              "      <th>4</th>\n",
              "      <td>CUST-005</td>\n",
              "      <td>Ibu Sri Wahyuni, IR</td>\n",
              "      <td>Wanita</td>\n",
              "      <td>41</td>\n",
              "      <td>Wiraswasta</td>\n",
              "      <td>Cluster</td>\n",
              "      <td>10615206</td>\n",
              "      <td>3</td>\n",
              "    </tr>\n",
              "  </tbody>\n",
              "</table>\n",
              "</div>\n",
              "      <button class=\"colab-df-convert\" onclick=\"convertToInteractive('df-1e45cb09-8156-4c14-8b16-bc75e8f093b8')\"\n",
              "              title=\"Convert this dataframe to an interactive table.\"\n",
              "              style=\"display:none;\">\n",
              "        \n",
              "  <svg xmlns=\"http://www.w3.org/2000/svg\" height=\"24px\"viewBox=\"0 0 24 24\"\n",
              "       width=\"24px\">\n",
              "    <path d=\"M0 0h24v24H0V0z\" fill=\"none\"/>\n",
              "    <path d=\"M18.56 5.44l.94 2.06.94-2.06 2.06-.94-2.06-.94-.94-2.06-.94 2.06-2.06.94zm-11 1L8.5 8.5l.94-2.06 2.06-.94-2.06-.94L8.5 2.5l-.94 2.06-2.06.94zm10 10l.94 2.06.94-2.06 2.06-.94-2.06-.94-.94-2.06-.94 2.06-2.06.94z\"/><path d=\"M17.41 7.96l-1.37-1.37c-.4-.4-.92-.59-1.43-.59-.52 0-1.04.2-1.43.59L10.3 9.45l-7.72 7.72c-.78.78-.78 2.05 0 2.83L4 21.41c.39.39.9.59 1.41.59.51 0 1.02-.2 1.41-.59l7.78-7.78 2.81-2.81c.8-.78.8-2.07 0-2.86zM5.41 20L4 18.59l7.72-7.72 1.47 1.35L5.41 20z\"/>\n",
              "  </svg>\n",
              "      </button>\n",
              "      \n",
              "  <style>\n",
              "    .colab-df-container {\n",
              "      display:flex;\n",
              "      flex-wrap:wrap;\n",
              "      gap: 12px;\n",
              "    }\n",
              "\n",
              "    .colab-df-convert {\n",
              "      background-color: #E8F0FE;\n",
              "      border: none;\n",
              "      border-radius: 50%;\n",
              "      cursor: pointer;\n",
              "      display: none;\n",
              "      fill: #1967D2;\n",
              "      height: 32px;\n",
              "      padding: 0 0 0 0;\n",
              "      width: 32px;\n",
              "    }\n",
              "\n",
              "    .colab-df-convert:hover {\n",
              "      background-color: #E2EBFA;\n",
              "      box-shadow: 0px 1px 2px rgba(60, 64, 67, 0.3), 0px 1px 3px 1px rgba(60, 64, 67, 0.15);\n",
              "      fill: #174EA6;\n",
              "    }\n",
              "\n",
              "    [theme=dark] .colab-df-convert {\n",
              "      background-color: #3B4455;\n",
              "      fill: #D2E3FC;\n",
              "    }\n",
              "\n",
              "    [theme=dark] .colab-df-convert:hover {\n",
              "      background-color: #434B5C;\n",
              "      box-shadow: 0px 1px 3px 1px rgba(0, 0, 0, 0.15);\n",
              "      filter: drop-shadow(0px 1px 2px rgba(0, 0, 0, 0.3));\n",
              "      fill: #FFFFFF;\n",
              "    }\n",
              "  </style>\n",
              "\n",
              "      <script>\n",
              "        const buttonEl =\n",
              "          document.querySelector('#df-1e45cb09-8156-4c14-8b16-bc75e8f093b8 button.colab-df-convert');\n",
              "        buttonEl.style.display =\n",
              "          google.colab.kernel.accessAllowed ? 'block' : 'none';\n",
              "\n",
              "        async function convertToInteractive(key) {\n",
              "          const element = document.querySelector('#df-1e45cb09-8156-4c14-8b16-bc75e8f093b8');\n",
              "          const dataTable =\n",
              "            await google.colab.kernel.invokeFunction('convertToInteractive',\n",
              "                                                     [key], {});\n",
              "          if (!dataTable) return;\n",
              "\n",
              "          const docLinkHtml = 'Like what you see? Visit the ' +\n",
              "            '<a target=\"_blank\" href=https://colab.research.google.com/notebooks/data_table.ipynb>data table notebook</a>'\n",
              "            + ' to learn more about interactive tables.';\n",
              "          element.innerHTML = '';\n",
              "          dataTable['output_type'] = 'display_data';\n",
              "          await google.colab.output.renderOutput(dataTable, element);\n",
              "          const docLink = document.createElement('div');\n",
              "          docLink.innerHTML = docLinkHtml;\n",
              "          element.appendChild(docLink);\n",
              "        }\n",
              "      </script>\n",
              "    </div>\n",
              "  </div>\n",
              "  "
            ]
          },
          "metadata": {},
          "execution_count": 29
        }
      ]
    },
    {
      "cell_type": "markdown",
      "source": [
        "Displays customer data in each cluster."
      ],
      "metadata": {
        "id": "19UYWZWC9vyD"
      }
    },
    {
      "cell_type": "code",
      "source": [
        "# Menampilkan data pelanggan berdasarkan cluster nya  \n",
        "for i in range(0, 5):  \n",
        "    print('\\nPelanggan cluster: {}\\n'.format(i))  \n",
        "    print(df_final[df_final['cluster']== i])"
      ],
      "metadata": {
        "colab": {
          "base_uri": "https://localhost:8080/"
        },
        "id": "HrDOQYFFiWiu",
        "outputId": "026b663e-006f-492a-d4b8-102ae3e77fee"
      },
      "execution_count": null,
      "outputs": [
        {
          "output_type": "stream",
          "name": "stdout",
          "text": [
            "\n",
            "Pelanggan cluster: 0\n",
            "\n",
            "   Customer_ID    Nama Pelanggan Jenis Kelamin  Umur    Profesi Tipe Residen  \\\n",
            "1     CUST-002  Shirley Ratuwati        Wanita    14    Pelajar      Cluster   \n",
            "19    CUST-020    Irene Novianto        Wanita    16    Pelajar       Sector   \n",
            "30    CUST-031     Eviana Handry        Wanita    19  Mahasiswa      Cluster   \n",
            "32    CUST-033   Cecilia Kusnadi        Wanita    19  Mahasiswa      Cluster   \n",
            "39    CUST-040    Irene Darmawan        Wanita    14    Pelajar       Sector   \n",
            "\n",
            "    NilaiBelanjaSetahun  cluster  \n",
            "1               2722700        0  \n",
            "19              2896845        0  \n",
            "30              3042773        0  \n",
            "32              3047926        0  \n",
            "39              2861855        0  \n",
            "\n",
            "Pelanggan cluster: 1\n",
            "\n",
            "   Customer_ID    Nama Pelanggan Jenis Kelamin  Umur     Profesi Tipe Residen  \\\n",
            "0     CUST-001      Budi Anggara          Pria    58  Wiraswasta       Sector   \n",
            "6     CUST-007     Cahyono, Agus          Pria    64  Wiraswasta       Sector   \n",
            "12    CUST-013      Cahaya Putri        Wanita    64  Wiraswasta      Cluster   \n",
            "13    CUST-014    Mario Setiawan          Pria    60  Wiraswasta      Cluster   \n",
            "31    CUST-032   Chintya Winarni        Wanita    47  Wiraswasta       Sector   \n",
            "37    CUST-038      Agatha Salim        Wanita    46  Wiraswasta       Sector   \n",
            "47    CUST-048  Maria Hutagalung        Wanita    45  Wiraswasta       Sector   \n",
            "49    CUST-050    Lianna Nugraha        Wanita    55  Wiraswasta       Sector   \n",
            "\n",
            "    NilaiBelanjaSetahun  cluster  \n",
            "0               9497927        1  \n",
            "6               9837260        1  \n",
            "12              9333168        1  \n",
            "13              9471615        1  \n",
            "31             10663179        1  \n",
            "37             10477127        1  \n",
            "47             10390732        1  \n",
            "49             10569316        1  \n",
            "\n",
            "Pelanggan cluster: 2\n",
            "\n",
            "   Customer_ID     Nama Pelanggan Jenis Kelamin  Umur           Profesi  \\\n",
            "2     CUST-003       Agus Cahyono          Pria    48      Professional   \n",
            "3     CUST-004   Antonius Winarta          Pria    53      Professional   \n",
            "7     CUST-008     Danang Santosa          Pria    52      Professional   \n",
            "10    CUST-011     Maria Suryawan        Wanita    50      Professional   \n",
            "11    CUST-012    Erliana Widjaja        Wanita    49      Professional   \n",
            "17    CUST-018        Nelly Halim        Wanita    63  Ibu Rumah Tangga   \n",
            "21    CUST-022       Novita Purba        Wanita    52      Professional   \n",
            "25    CUST-026  Christine Winarto        Wanita    55      Professional   \n",
            "28    CUST-029       Tia Hartanti        Wanita    56      Professional   \n",
            "29    CUST-030     Rosita Saragih        Wanita    46  Ibu Rumah Tangga   \n",
            "46    CUST-047        Mira Kurnia        Wanita    55  Ibu Rumah Tangga   \n",
            "\n",
            "   Tipe Residen  NilaiBelanjaSetahun  cluster  \n",
            "2       Cluster              5286429        2  \n",
            "3       Cluster              5204498        2  \n",
            "7       Cluster              5223569        2  \n",
            "10       Sector              5987367        2  \n",
            "11       Sector              5941914        2  \n",
            "17      Cluster              5340690        2  \n",
            "21      Cluster              5298157        2  \n",
            "25      Cluster              5269392        2  \n",
            "28      Cluster              5271845        2  \n",
            "29       Sector              5020976        2  \n",
            "46      Cluster              6130724        2  \n",
            "\n",
            "Pelanggan cluster: 3\n",
            "\n",
            "   Customer_ID       Nama Pelanggan Jenis Kelamin  Umur     Profesi  \\\n",
            "4     CUST-005  Ibu Sri Wahyuni, IR        Wanita    41  Wiraswasta   \n",
            "14    CUST-015     Shirley Ratuwati        Wanita    20  Wiraswasta   \n",
            "18    CUST-019         Mega Pranoto        Wanita    32  Wiraswasta   \n",
            "20    CUST-021     Lestari Fabianto        Wanita    38  Wiraswasta   \n",
            "23    CUST-024        Putri Ginting        Wanita    39  Wiraswasta   \n",
            "24    CUST-025       Julia Setiawan        Wanita    29  Wiraswasta   \n",
            "26    CUST-027        Grace Mulyati        Wanita    35  Wiraswasta   \n",
            "33    CUST-034       Deasy Arisandi        Wanita    21  Wiraswasta   \n",
            "35    CUST-036       Ni Made Suasti        Wanita    30  Wiraswasta   \n",
            "41    CUST-042         Yuliana Wati        Wanita    26  Wiraswasta   \n",
            "43    CUST-044                 Anna        Wanita    18  Wiraswasta   \n",
            "45    CUST-046         Elfira Surya        Wanita    25  Wiraswasta   \n",
            "\n",
            "   Tipe Residen  NilaiBelanjaSetahun  cluster  \n",
            "4       Cluster             10615206        3  \n",
            "14      Cluster             10365668        3  \n",
            "18      Cluster             10884508        3  \n",
            "20      Cluster              9222070        3  \n",
            "23      Cluster             10259572        3  \n",
            "24       Sector             10721998        3  \n",
            "26      Cluster              9114159        3  \n",
            "33       Sector              9759822        3  \n",
            "35      Cluster              9678994        3  \n",
            "41      Cluster              9880607        3  \n",
            "43      Cluster              9339737        3  \n",
            "45       Sector             10099807        3  \n",
            "\n",
            "Pelanggan cluster: 4\n",
            "\n",
            "   Customer_ID         Nama Pelanggan Jenis Kelamin  Umur           Profesi  \\\n",
            "5     CUST-006        Rosalina Kurnia        Wanita    24      Professional   \n",
            "8     CUST-009  Elisabeth Suryadinata        Wanita    29      Professional   \n",
            "9     CUST-010         Mario Setiawan          Pria    33      Professional   \n",
            "15    CUST-016           Bambang Rudi          Pria    35      Professional   \n",
            "16    CUST-017              Yuni Sari        Wanita    32  Ibu Rumah Tangga   \n",
            "22    CUST-023        Denny Amiruddin          Pria    34      Professional   \n",
            "27    CUST-028          Adeline Huang        Wanita    40  Ibu Rumah Tangga   \n",
            "34    CUST-035                Ida Ayu        Wanita    39      Professional   \n",
            "36    CUST-037       Felicia Tandiono        Wanita    25      Professional   \n",
            "38    CUST-039           Gina Hidayat        Wanita    20      Professional   \n",
            "40    CUST-041       Shinta Aritonang        Wanita    24  Ibu Rumah Tangga   \n",
            "42    CUST-043           Yenna Sumadi        Wanita    31      Professional   \n",
            "44    CUST-045         Rismawati Juni        Wanita    22      Professional   \n",
            "48    CUST-049        Josephine Wahab        Wanita    33  Ibu Rumah Tangga   \n",
            "\n",
            "   Tipe Residen  NilaiBelanjaSetahun  cluster  \n",
            "5       Cluster              5215541        4  \n",
            "8        Sector              5993218        4  \n",
            "9       Cluster              5257448        4  \n",
            "15      Cluster              5262521        4  \n",
            "16      Cluster              5677762        4  \n",
            "22      Cluster              5239290        4  \n",
            "27      Cluster              6631680        4  \n",
            "34       Sector              5962575        4  \n",
            "36       Sector              5972787        4  \n",
            "38      Cluster              5257775        4  \n",
            "40      Cluster              6820976        4  \n",
            "42      Cluster              5268410        4  \n",
            "44      Cluster              5211041        4  \n",
            "48       Sector              4992585        4  \n"
          ]
        }
      ]
    },
    {
      "cell_type": "markdown",
      "source": [
        "#Cluster Analysis Visualization"
      ],
      "metadata": {
        "id": "LeLb7OfVzJX-"
      }
    },
    {
      "cell_type": "markdown",
      "source": [
        "The dataset that already contains columns with customer segmentation can be analyzed again.\n",
        "\n",
        "- For numeric columns, namely \"Umur\" and \"NilaiBelanjaSetahun\", the visualization is done by displaying a boxplot.\n",
        "- For categorical columns namely \"JenisKelamin\", \"Profesi\" and \"TipeResiden\", visualization is done by displaying the number of each value using a barchart."
      ],
      "metadata": {
        "id": "oI1Cc8pCCLBn"
      }
    },
    {
      "cell_type": "code",
      "source": [
        "for i in kolom_numerik:  \n",
        "    plt.figure(figsize=(6,4))  \n",
        "    ax = sns.boxplot(x = 'cluster',y = i, data = df_final)  \n",
        "    plt.title('\\nBox Plot {}\\n'.format(i), fontsize=12)  \n",
        "    plt.show() "
      ],
      "metadata": {
        "colab": {
          "base_uri": "https://localhost:8080/",
          "height": 633
        },
        "id": "1969tDv7jMbD",
        "outputId": "9b735b71-4457-469c-9b78-e6872698109f"
      },
      "execution_count": null,
      "outputs": [
        {
          "output_type": "display_data",
          "data": {
            "text/plain": [
              "<Figure size 432x288 with 1 Axes>"
            ],
            "image/png": "[encoded data removed]"
          },
          "metadata": {
            "needs_background": "light"
          }
        },
        {
          "output_type": "display_data",
          "data": {
            "text/plain": [
              "<Figure size 432x288 with 1 Axes>"
            ],
            "image/png": "[encoded data removed]"
          },
          "metadata": {
            "needs_background": "light"
          }
        }
      ]
    },
    {
      "cell_type": "markdown",
      "source": [
        "From the boxplot above, it can be concluded that:\n",
        "- The dominance of elderly customers is in clusters 1 and 2, while clusters 3 and 4 are dominated by adult customers. Cluster 0 is dominated by young customers.\n",
        "- The highest annual expenditure value is dominated by clusters 1 and 3, while clusters 2 and 4 have a lower annual expenditure value compared to clusters 1 and 3. Cluster 0 is the cluster with the lowest annual expenditure value."
      ],
      "metadata": {
        "id": "YXTOqTsGDe3O"
      }
    },
    {
      "cell_type": "code",
      "source": [
        "for i in kolom_kategorikal:  \n",
        "    plt.figure(figsize=(6,4))  \n",
        "    ax = sns.countplot(data = df_final, x = 'cluster', hue = i )  \n",
        "    plt.title('\\nCount Plot {}\\n'.format(i), fontsize=12)  \n",
        "    ax.legend(loc=\"upper center\")  \n",
        "    for p in ax.patches:  \n",
        "        ax.annotate(format(p.get_height(), '.0f'),  \n",
        "                    (p.get_x() + p.get_width() / 2., p.get_height()),  \n",
        "                     ha = 'center',  \n",
        "                     va = 'center',  \n",
        "                     xytext = (0, 10),  \n",
        "                     textcoords = 'offset points')  \n",
        "      \n",
        "    sns.despine(right=True,top = True, left = True)  \n",
        "    ax.axes.yaxis.set_visible(False)  \n",
        "    plt.show()  "
      ],
      "metadata": {
        "colab": {
          "base_uri": "https://localhost:8080/",
          "height": 941
        },
        "id": "e6qNckHDkALO",
        "outputId": "e5ead35f-749b-4e98-bae4-fb9348b32248"
      },
      "execution_count": null,
      "outputs": [
        {
          "output_type": "display_data",
          "data": {
            "text/plain": [
              "<Figure size 432x288 with 1 Axes>"
            ],
            "image/png": "[encoded data removed]"
          },
          "metadata": {
            "needs_background": "light"
          }
        },
        {
          "output_type": "display_data",
          "data": {
            "text/plain": [
              "<Figure size 432x288 with 1 Axes>"
            ],
            "image/png": "[encoded data removed]"
          },
          "metadata": {
            "needs_background": "light"
          }
        },
        {
          "output_type": "display_data",
          "data": {
            "text/plain": [
              "<Figure size 432x288 with 1 Axes>"
            ],
            "image/png": "[encoded data removed]"
          },
          "metadata": {
            "needs_background": "light"
          }
        }
      ]
    },
    {
      "cell_type": "markdown",
      "source": [
        "From the barchart above, it can be concluded that:\n",
        "- Each cluster is dominated by women (wanita), even cluster 3 does not have a single male (pria) customer.\n",
        "- Clusters 2 and 4 are dominated by customers with a profession as professionals (profesional), there are also housewives (ibu rumah tangga) in this cluster. Meanwhile, clusters 1 and 3 only have customers who are self-employed (wiraswasta). Then, customers in cluster 0 are students (pelajar dan mahasiswa).\n",
        "- Clusters 0, 2, 3, and 4 are dominated by customers who live in \"Cluster\". Meanwhile, more customers in cluster 1 live in \"Sektor\""
      ],
      "metadata": {
        "id": "mgt5R5OMFs-L"
      }
    },
    {
      "cell_type": "markdown",
      "source": [
        "From the cluster results obtained, customers will be re-segmented into categories whose number is the same as the number of clusters. There are 5 categories namely:\n",
        "- 'Diamond Young Member' for cluster 0\n",
        "- 'Diamond Senior Member' for cluster 1\n",
        "- 'Silver Member' for cluster 2\n",
        "- 'Gold Young Member' for cluster 3\n",
        "- 'Gold Senior Member' for cluster 4\n",
        "\n",
        "By mapping using the value in the \"cluster\" column, we create a new column called \"segmen\".\n",
        "\n",
        "The naming of this segmentation is also influenced by the customer data that enters the cluster. For example, for cluster 0, namely Diamond Young Members, it is dominated by students (pelajar dan mahasiswa) whose annual spending value is low and who are also young."
      ],
      "metadata": {
        "id": "Jd-BwrAg_15c"
      }
    },
    {
      "cell_type": "code",
      "source": [
        "# Mapping nama kolom  \n",
        "df_final['segmen'] = df_final['cluster'].map({  \n",
        "    0: 'Diamond Young Member',  \n",
        "    1: 'Diamond Senior Member',  \n",
        "    2: 'Silver Member',  \n",
        "    3: 'Gold Young Member',  \n",
        "    4: 'Gold Senior Member'  \n",
        "})  \n",
        "\n",
        "print(df_final.info())\n",
        "print(df_final.head())   "
      ],
      "metadata": {
        "colab": {
          "base_uri": "https://localhost:8080/"
        },
        "id": "fpkfD116kljW",
        "outputId": "2ce1f6f5-003f-41e9-e69b-672b26539efa"
      },
      "execution_count": null,
      "outputs": [
        {
          "output_type": "stream",
          "name": "stdout",
          "text": [
            "<class 'pandas.core.frame.DataFrame'>\n",
            "RangeIndex: 50 entries, 0 to 49\n",
            "Data columns (total 9 columns):\n",
            " #   Column               Non-Null Count  Dtype \n",
            "---  ------               --------------  ----- \n",
            " 0   Customer_ID          50 non-null     object\n",
            " 1   Nama Pelanggan       50 non-null     object\n",
            " 2   Jenis Kelamin        50 non-null     object\n",
            " 3   Umur                 50 non-null     int64 \n",
            " 4   Profesi              50 non-null     object\n",
            " 5   Tipe Residen         50 non-null     object\n",
            " 6   NilaiBelanjaSetahun  50 non-null     int64 \n",
            " 7   cluster              50 non-null     uint16\n",
            " 8   segmen               50 non-null     object\n",
            "dtypes: int64(2), object(6), uint16(1)\n",
            "memory usage: 3.3+ KB\n",
            "None\n",
            "  Customer_ID       Nama Pelanggan Jenis Kelamin  Umur       Profesi  \\\n",
            "0    CUST-001         Budi Anggara          Pria    58    Wiraswasta   \n",
            "1    CUST-002     Shirley Ratuwati        Wanita    14       Pelajar   \n",
            "2    CUST-003         Agus Cahyono          Pria    48  Professional   \n",
            "3    CUST-004     Antonius Winarta          Pria    53  Professional   \n",
            "4    CUST-005  Ibu Sri Wahyuni, IR        Wanita    41    Wiraswasta   \n",
            "\n",
            "  Tipe Residen  NilaiBelanjaSetahun  cluster                 segmen  \n",
            "0       Sector              9497927        1  Diamond Senior Member  \n",
            "1      Cluster              2722700        0   Diamond Young Member  \n",
            "2      Cluster              5286429        2          Silver Member  \n",
            "3      Cluster              5204498        2          Silver Member  \n",
            "4      Cluster             10615206        3      Gold Young Member  \n"
          ]
        }
      ]
    },
    {
      "cell_type": "markdown",
      "source": [
        "#Predict New Data\n"
      ],
      "metadata": {
        "id": "zlRqTckAzBBO"
      }
    },
    {
      "cell_type": "markdown",
      "source": [
        "Models that have been stored using pickle can be used to predict new data clusters.\n",
        "\n",
        "Before making predictions, we need to do the same preprocessing of the new data, namely:\n",
        "- Converts numeric data to the same scale\n",
        "- Converts categorical data to numeric"
      ],
      "metadata": {
        "id": "cR-tUyTN-E9S"
      }
    },
    {
      "cell_type": "code",
      "source": [
        "data = [{  \n",
        "    'Customer_ID': 'CUST-100' ,  \n",
        "    'Nama Pelanggan': 'Joko' ,  \n",
        "    'Jenis Kelamin': 'Pria',  \n",
        "    'Umur': 45,  \n",
        "    'Profesi': 'Wiraswasta',  \n",
        "    'Tipe Residen': 'Cluster' ,  \n",
        "    'NilaiBelanjaSetahun': 8230000  \n",
        "      \n",
        "}]\n",
        "new_df = pd.DataFrame(data) \n",
        "\n",
        "def data_preprocess(data):  \n",
        "    # Konversi Kategorikal data  \n",
        "    kolom_kategorikal = ['Jenis Kelamin', 'Profesi', 'Tipe Residen']  \n",
        "      \n",
        "    df_encode = data[kolom_kategorikal].copy()  \n",
        "  \n",
        "    ## Jenis Kelamin   \n",
        "    df_encode['Jenis Kelamin'] = df_encode['Jenis Kelamin'].map({  \n",
        "        'Pria': 0,  \n",
        "        'Wanita' : 1  \n",
        "    })  \n",
        "      \n",
        "    ## Profesi  \n",
        "    df_encode['Profesi'] = df_encode['Profesi'].map({  \n",
        "        'Ibu Rumah Tangga': 0,  \n",
        "        'Mahasiswa' : 1,  \n",
        "        'Pelajar': 2,  \n",
        "        'Professional': 3,  \n",
        "        'Wiraswasta': 4  \n",
        "    })  \n",
        "      \n",
        "    ## Tipe Residen  \n",
        "    df_encode['Tipe Residen'] = df_encode['Tipe Residen'].map({  \n",
        "        'Cluster': 0,  \n",
        "        'Sector' : 1  \n",
        "    })  \n",
        "      \n",
        "    # Standardisasi Numerical Data  \n",
        "    kolom_numerik = ['Umur','NilaiBelanjaSetahun']  \n",
        "    df_std = data[kolom_numerik].copy()  \n",
        "      \n",
        "    ## Standardisasi Kolom Umur  \n",
        "    df_std['Umur'] = (df_std['Umur'] - 37.5)/14.7  \n",
        "      \n",
        "    ## Standardisasi Kolom Nilai Belanja Setahun  \n",
        "    df_std['NilaiBelanjaSetahun'] = (df_std['NilaiBelanjaSetahun'] - 7069874.8)/2590619.0  \n",
        "      \n",
        "    # Menggabungkan Kategorikal dan numerikal data  \n",
        "    df_model = df_encode.merge(df_std, left_index = True,  \n",
        "                           right_index=True, how = 'left')  \n",
        "      \n",
        "    return df_model  \n",
        "  \n",
        "# Menjalankan fungsi  \n",
        "new_df_model = data_preprocess(new_df)  \n",
        "  \n",
        "print(new_df_model) "
      ],
      "metadata": {
        "colab": {
          "base_uri": "https://localhost:8080/"
        },
        "id": "R8f0saT7k_e6",
        "outputId": "c19f5ad4-b937-4b9b-db15-85d6a6402127"
      },
      "execution_count": null,
      "outputs": [
        {
          "output_type": "stream",
          "name": "stdout",
          "text": [
            "   Jenis Kelamin  Profesi  Tipe Residen      Umur  NilaiBelanjaSetahun\n",
            "0              0        4             0  0.510204             0.447818\n"
          ]
        }
      ]
    },
    {
      "cell_type": "markdown",
      "source": [
        "Make predictions using the saved model by using **pickle.load** to call the model."
      ],
      "metadata": {
        "id": "6gZb5K6z_L7X"
      }
    },
    {
      "cell_type": "code",
      "source": [
        "def modelling (data):  \n",
        "      \n",
        "    # Memanggil Model  \n",
        "    kpoto = pickle.load(open('cluster.pkl', 'rb'))  \n",
        "      \n",
        "    # Melakukan Prediksi  \n",
        "    clusters = kpoto.predict(data,categorical=[0,1,2])  \n",
        "      \n",
        "    return clusters  \n",
        "  \n",
        "# Menjalankan Fungsi  \n",
        "clusters = modelling(new_df_model)  \n",
        "  \n",
        "print(clusters)  "
      ],
      "metadata": {
        "colab": {
          "base_uri": "https://localhost:8080/"
        },
        "id": "KASJNVFGwu2r",
        "outputId": "854e53e6-6b32-4812-ccef-c6d3c6ef49ff"
      },
      "execution_count": null,
      "outputs": [
        {
          "output_type": "stream",
          "name": "stdout",
          "text": [
            "[1]\n"
          ]
        }
      ]
    },
    {
      "cell_type": "markdown",
      "source": [
        "The cluster results obtained after making predictions can be used to determine predetermined customer segments.\n",
        "\n",
        "Define customer segments using the cluster results and add them into the \"segmen\" column"
      ],
      "metadata": {
        "id": "bX2vcqnv_3Sh"
      }
    },
    {
      "cell_type": "code",
      "source": [
        "def menamakan_segmen (data_asli, clusters):  \n",
        "      \n",
        "    # Menggabungkan cluster dan data asli  \n",
        "    final_df = data_asli.copy()  \n",
        "    final_df['cluster'] = clusters\n",
        "      \n",
        "    # Menamakan segmen  \n",
        "    final_df['segmen'] = final_df['cluster'].map({  \n",
        "        0: 'Diamond Young Member',  \n",
        "        1: 'Diamond Senior Member',  \n",
        "        2: 'Silver Students',  \n",
        "        3: 'Gold Young Member',  \n",
        "        4: 'Gold Senior Member'  \n",
        "    })  \n",
        "      \n",
        "    return final_df\n",
        "  \n",
        "# Menjalankan Fungsi  \n",
        "new_final_df = menamakan_segmen(new_df,clusters)  \n",
        "  \n",
        "print(new_final_df)  "
      ],
      "metadata": {
        "colab": {
          "base_uri": "https://localhost:8080/"
        },
        "id": "iFOeyRWUxGqm",
        "outputId": "41d24c18-814b-4244-f5ce-003053f1a808"
      },
      "execution_count": null,
      "outputs": [
        {
          "output_type": "stream",
          "name": "stdout",
          "text": [
            "  Customer_ID Nama Pelanggan Jenis Kelamin  Umur     Profesi Tipe Residen  \\\n",
            "0    CUST-100           Joko          Pria    45  Wiraswasta      Cluster   \n",
            "\n",
            "   NilaiBelanjaSetahun  cluster                 segmen  \n",
            "0              8230000        1  Diamond Senior Member  \n"
          ]
        }
      ]
    }
  ]
}